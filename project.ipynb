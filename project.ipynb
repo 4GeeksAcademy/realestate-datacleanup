{
 "cells": [
  {
   "attachments": {},
   "cell_type": "markdown",
   "id": "innocent-university",
   "metadata": {},
   "source": [
    "# Real Estate Clean up\n",
    "\n",
    "This is a real dataset, and it was downloaded using web scraping techniques. The data contains registers from **Fotocasa** which is one of the most popular real estate websites in Spain. Please, do not do this (web scraping) unless it is for academic purposes.\n",
    "\n",
    "The dataset was downloaded a few years ago by Henry Navarro, and in no case were economic returns obtained from it.\n",
    "\n",
    "It contains thousands of data from real houses published on the web www.fotocasa.com. Your goal is to extract as much information as possible with the knowledge you have so far about data science, for example what is the most expensive house in the entire dataset?\n",
    "\n",
    "Let's start with precisely that question... Good luck!"
   ]
  },
  {
   "attachments": {},
   "cell_type": "markdown",
   "id": "multiple-glass",
   "metadata": {},
   "source": [
    "#### Exercise 00. Read the dataset assets/real_estate.csv and try to visualize the table (★☆☆)"
   ]
  },
  {
   "cell_type": "code",
   "execution_count": 2,
   "id": "frank-heath",
   "metadata": {},
   "outputs": [
    {
     "data": {
      "text/html": [
       "<div>\n",
       "<style scoped>\n",
       "    .dataframe tbody tr th:only-of-type {\n",
       "        vertical-align: middle;\n",
       "    }\n",
       "\n",
       "    .dataframe tbody tr th {\n",
       "        vertical-align: top;\n",
       "    }\n",
       "\n",
       "    .dataframe thead th {\n",
       "        text-align: right;\n",
       "    }\n",
       "</style>\n",
       "<table border=\"1\" class=\"dataframe\">\n",
       "  <thead>\n",
       "    <tr style=\"text-align: right;\">\n",
       "      <th></th>\n",
       "      <th>Unnamed: 0</th>\n",
       "      <th>id_realEstates</th>\n",
       "      <th>isNew</th>\n",
       "      <th>realEstate_name</th>\n",
       "      <th>phone_realEstate</th>\n",
       "      <th>url_inmueble</th>\n",
       "      <th>rooms</th>\n",
       "      <th>bathrooms</th>\n",
       "      <th>surface</th>\n",
       "      <th>price</th>\n",
       "      <th>...</th>\n",
       "      <th>level4Id</th>\n",
       "      <th>level5Id</th>\n",
       "      <th>level6Id</th>\n",
       "      <th>level7Id</th>\n",
       "      <th>level8Id</th>\n",
       "      <th>accuracy</th>\n",
       "      <th>latitude</th>\n",
       "      <th>longitude</th>\n",
       "      <th>zipCode</th>\n",
       "      <th>customZone</th>\n",
       "    </tr>\n",
       "  </thead>\n",
       "  <tbody>\n",
       "    <tr>\n",
       "      <th>0</th>\n",
       "      <td>1</td>\n",
       "      <td>153771986</td>\n",
       "      <td>False</td>\n",
       "      <td>ferrari 57 inmobiliaria</td>\n",
       "      <td>912177526.0</td>\n",
       "      <td>https://www.fotocasa.es/es/comprar/vivienda/ma...</td>\n",
       "      <td>3.0</td>\n",
       "      <td>2.0</td>\n",
       "      <td>103.0</td>\n",
       "      <td>195000</td>\n",
       "      <td>...</td>\n",
       "      <td>0</td>\n",
       "      <td>0</td>\n",
       "      <td>0</td>\n",
       "      <td>0</td>\n",
       "      <td>0</td>\n",
       "      <td>0</td>\n",
       "      <td>40,2948276786438</td>\n",
       "      <td>-3,44402412135624</td>\n",
       "      <td>NaN</td>\n",
       "      <td>NaN</td>\n",
       "    </tr>\n",
       "    <tr>\n",
       "      <th>1</th>\n",
       "      <td>2</td>\n",
       "      <td>153867863</td>\n",
       "      <td>False</td>\n",
       "      <td>tecnocasa fuenlabrada ferrocarril</td>\n",
       "      <td>916358736.0</td>\n",
       "      <td>https://www.fotocasa.es/es/comprar/vivienda/ma...</td>\n",
       "      <td>3.0</td>\n",
       "      <td>1.0</td>\n",
       "      <td>NaN</td>\n",
       "      <td>89000</td>\n",
       "      <td>...</td>\n",
       "      <td>0</td>\n",
       "      <td>0</td>\n",
       "      <td>0</td>\n",
       "      <td>0</td>\n",
       "      <td>0</td>\n",
       "      <td>1</td>\n",
       "      <td>40,28674</td>\n",
       "      <td>-3,79351</td>\n",
       "      <td>NaN</td>\n",
       "      <td>NaN</td>\n",
       "    </tr>\n",
       "    <tr>\n",
       "      <th>2</th>\n",
       "      <td>3</td>\n",
       "      <td>153430440</td>\n",
       "      <td>False</td>\n",
       "      <td>look find boadilla</td>\n",
       "      <td>916350408.0</td>\n",
       "      <td>https://www.fotocasa.es/es/comprar/vivienda/ma...</td>\n",
       "      <td>2.0</td>\n",
       "      <td>2.0</td>\n",
       "      <td>99.0</td>\n",
       "      <td>390000</td>\n",
       "      <td>...</td>\n",
       "      <td>0</td>\n",
       "      <td>0</td>\n",
       "      <td>0</td>\n",
       "      <td>0</td>\n",
       "      <td>0</td>\n",
       "      <td>0</td>\n",
       "      <td>40,4115646786438</td>\n",
       "      <td>-3,90662252135624</td>\n",
       "      <td>NaN</td>\n",
       "      <td>NaN</td>\n",
       "    </tr>\n",
       "    <tr>\n",
       "      <th>3</th>\n",
       "      <td>4</td>\n",
       "      <td>152776331</td>\n",
       "      <td>False</td>\n",
       "      <td>tecnocasa fuenlabrada ferrocarril</td>\n",
       "      <td>916358736.0</td>\n",
       "      <td>https://www.fotocasa.es/es/comprar/vivienda/ma...</td>\n",
       "      <td>3.0</td>\n",
       "      <td>1.0</td>\n",
       "      <td>86.0</td>\n",
       "      <td>89000</td>\n",
       "      <td>...</td>\n",
       "      <td>0</td>\n",
       "      <td>0</td>\n",
       "      <td>0</td>\n",
       "      <td>0</td>\n",
       "      <td>0</td>\n",
       "      <td>0</td>\n",
       "      <td>40,2853785786438</td>\n",
       "      <td>-3,79508142135624</td>\n",
       "      <td>NaN</td>\n",
       "      <td>NaN</td>\n",
       "    </tr>\n",
       "    <tr>\n",
       "      <th>4</th>\n",
       "      <td>5</td>\n",
       "      <td>153180188</td>\n",
       "      <td>False</td>\n",
       "      <td>ferrari 57 inmobiliaria</td>\n",
       "      <td>912177526.0</td>\n",
       "      <td>https://www.fotocasa.es/es/comprar/vivienda/ma...</td>\n",
       "      <td>2.0</td>\n",
       "      <td>2.0</td>\n",
       "      <td>106.0</td>\n",
       "      <td>172000</td>\n",
       "      <td>...</td>\n",
       "      <td>0</td>\n",
       "      <td>0</td>\n",
       "      <td>0</td>\n",
       "      <td>0</td>\n",
       "      <td>0</td>\n",
       "      <td>0</td>\n",
       "      <td>40,2998774864376</td>\n",
       "      <td>-3,45226301356237</td>\n",
       "      <td>NaN</td>\n",
       "      <td>NaN</td>\n",
       "    </tr>\n",
       "    <tr>\n",
       "      <th>...</th>\n",
       "      <td>...</td>\n",
       "      <td>...</td>\n",
       "      <td>...</td>\n",
       "      <td>...</td>\n",
       "      <td>...</td>\n",
       "      <td>...</td>\n",
       "      <td>...</td>\n",
       "      <td>...</td>\n",
       "      <td>...</td>\n",
       "      <td>...</td>\n",
       "      <td>...</td>\n",
       "      <td>...</td>\n",
       "      <td>...</td>\n",
       "      <td>...</td>\n",
       "      <td>...</td>\n",
       "      <td>...</td>\n",
       "      <td>...</td>\n",
       "      <td>...</td>\n",
       "      <td>...</td>\n",
       "      <td>...</td>\n",
       "      <td>...</td>\n",
       "    </tr>\n",
       "    <tr>\n",
       "      <th>15330</th>\n",
       "      <td>15331</td>\n",
       "      <td>153901377</td>\n",
       "      <td>False</td>\n",
       "      <td>infocasa consulting</td>\n",
       "      <td>911360461.0</td>\n",
       "      <td>https://www.fotocasa.es/es/comprar/vivienda/ma...</td>\n",
       "      <td>2.0</td>\n",
       "      <td>1.0</td>\n",
       "      <td>96.0</td>\n",
       "      <td>259470</td>\n",
       "      <td>...</td>\n",
       "      <td>0</td>\n",
       "      <td>0</td>\n",
       "      <td>0</td>\n",
       "      <td>0</td>\n",
       "      <td>0</td>\n",
       "      <td>0</td>\n",
       "      <td>40,45416</td>\n",
       "      <td>-3,70286</td>\n",
       "      <td>NaN</td>\n",
       "      <td>NaN</td>\n",
       "    </tr>\n",
       "    <tr>\n",
       "      <th>15331</th>\n",
       "      <td>15332</td>\n",
       "      <td>150394373</td>\n",
       "      <td>False</td>\n",
       "      <td>inmobiliaria pulpon</td>\n",
       "      <td>912788039.0</td>\n",
       "      <td>https://www.fotocasa.es/es/comprar/vivienda/ma...</td>\n",
       "      <td>3.0</td>\n",
       "      <td>1.0</td>\n",
       "      <td>150.0</td>\n",
       "      <td>165000</td>\n",
       "      <td>...</td>\n",
       "      <td>0</td>\n",
       "      <td>0</td>\n",
       "      <td>0</td>\n",
       "      <td>0</td>\n",
       "      <td>0</td>\n",
       "      <td>0</td>\n",
       "      <td>40,36652</td>\n",
       "      <td>-3,48951</td>\n",
       "      <td>NaN</td>\n",
       "      <td>NaN</td>\n",
       "    </tr>\n",
       "    <tr>\n",
       "      <th>15332</th>\n",
       "      <td>15333</td>\n",
       "      <td>153901397</td>\n",
       "      <td>False</td>\n",
       "      <td>tecnocasa torrelodones</td>\n",
       "      <td>912780348.0</td>\n",
       "      <td>https://www.fotocasa.es/es/comprar/vivienda/ma...</td>\n",
       "      <td>4.0</td>\n",
       "      <td>2.0</td>\n",
       "      <td>175.0</td>\n",
       "      <td>495000</td>\n",
       "      <td>...</td>\n",
       "      <td>0</td>\n",
       "      <td>0</td>\n",
       "      <td>0</td>\n",
       "      <td>0</td>\n",
       "      <td>0</td>\n",
       "      <td>0</td>\n",
       "      <td>40,57444</td>\n",
       "      <td>-3,92124</td>\n",
       "      <td>NaN</td>\n",
       "      <td>NaN</td>\n",
       "    </tr>\n",
       "    <tr>\n",
       "      <th>15333</th>\n",
       "      <td>15334</td>\n",
       "      <td>152607440</td>\n",
       "      <td>False</td>\n",
       "      <td>inmobiliaria pulpon</td>\n",
       "      <td>912788039.0</td>\n",
       "      <td>https://www.fotocasa.es/es/comprar/vivienda/ma...</td>\n",
       "      <td>3.0</td>\n",
       "      <td>2.0</td>\n",
       "      <td>101.0</td>\n",
       "      <td>195000</td>\n",
       "      <td>...</td>\n",
       "      <td>0</td>\n",
       "      <td>0</td>\n",
       "      <td>0</td>\n",
       "      <td>0</td>\n",
       "      <td>0</td>\n",
       "      <td>0</td>\n",
       "      <td>40,36967</td>\n",
       "      <td>-3,48105</td>\n",
       "      <td>NaN</td>\n",
       "      <td>NaN</td>\n",
       "    </tr>\n",
       "    <tr>\n",
       "      <th>15334</th>\n",
       "      <td>15335</td>\n",
       "      <td>153901356</td>\n",
       "      <td>False</td>\n",
       "      <td>infocasa consulting</td>\n",
       "      <td>911360461.0</td>\n",
       "      <td>https://www.fotocasa.es/es/comprar/vivienda/ma...</td>\n",
       "      <td>3.0</td>\n",
       "      <td>2.0</td>\n",
       "      <td>152.0</td>\n",
       "      <td>765000</td>\n",
       "      <td>...</td>\n",
       "      <td>0</td>\n",
       "      <td>0</td>\n",
       "      <td>0</td>\n",
       "      <td>0</td>\n",
       "      <td>0</td>\n",
       "      <td>0</td>\n",
       "      <td>40,45773</td>\n",
       "      <td>-3,69068</td>\n",
       "      <td>NaN</td>\n",
       "      <td>NaN</td>\n",
       "    </tr>\n",
       "  </tbody>\n",
       "</table>\n",
       "<p>15335 rows × 37 columns</p>\n",
       "</div>"
      ],
      "text/plain": [
       "       Unnamed: 0  id_realEstates  isNew                    realEstate_name  \\\n",
       "0               1       153771986  False            ferrari 57 inmobiliaria   \n",
       "1               2       153867863  False  tecnocasa fuenlabrada ferrocarril   \n",
       "2               3       153430440  False                 look find boadilla   \n",
       "3               4       152776331  False  tecnocasa fuenlabrada ferrocarril   \n",
       "4               5       153180188  False            ferrari 57 inmobiliaria   \n",
       "...           ...             ...    ...                                ...   \n",
       "15330       15331       153901377  False                infocasa consulting   \n",
       "15331       15332       150394373  False                inmobiliaria pulpon   \n",
       "15332       15333       153901397  False             tecnocasa torrelodones   \n",
       "15333       15334       152607440  False                inmobiliaria pulpon   \n",
       "15334       15335       153901356  False                infocasa consulting   \n",
       "\n",
       "       phone_realEstate                                       url_inmueble  \\\n",
       "0           912177526.0  https://www.fotocasa.es/es/comprar/vivienda/ma...   \n",
       "1           916358736.0  https://www.fotocasa.es/es/comprar/vivienda/ma...   \n",
       "2           916350408.0  https://www.fotocasa.es/es/comprar/vivienda/ma...   \n",
       "3           916358736.0  https://www.fotocasa.es/es/comprar/vivienda/ma...   \n",
       "4           912177526.0  https://www.fotocasa.es/es/comprar/vivienda/ma...   \n",
       "...                 ...                                                ...   \n",
       "15330       911360461.0  https://www.fotocasa.es/es/comprar/vivienda/ma...   \n",
       "15331       912788039.0  https://www.fotocasa.es/es/comprar/vivienda/ma...   \n",
       "15332       912780348.0  https://www.fotocasa.es/es/comprar/vivienda/ma...   \n",
       "15333       912788039.0  https://www.fotocasa.es/es/comprar/vivienda/ma...   \n",
       "15334       911360461.0  https://www.fotocasa.es/es/comprar/vivienda/ma...   \n",
       "\n",
       "       rooms  bathrooms  surface   price  ... level4Id level5Id level6Id  \\\n",
       "0        3.0        2.0    103.0  195000  ...        0        0        0   \n",
       "1        3.0        1.0      NaN   89000  ...        0        0        0   \n",
       "2        2.0        2.0     99.0  390000  ...        0        0        0   \n",
       "3        3.0        1.0     86.0   89000  ...        0        0        0   \n",
       "4        2.0        2.0    106.0  172000  ...        0        0        0   \n",
       "...      ...        ...      ...     ...  ...      ...      ...      ...   \n",
       "15330    2.0        1.0     96.0  259470  ...        0        0        0   \n",
       "15331    3.0        1.0    150.0  165000  ...        0        0        0   \n",
       "15332    4.0        2.0    175.0  495000  ...        0        0        0   \n",
       "15333    3.0        2.0    101.0  195000  ...        0        0        0   \n",
       "15334    3.0        2.0    152.0  765000  ...        0        0        0   \n",
       "\n",
       "      level7Id level8Id accuracy          latitude          longitude zipCode  \\\n",
       "0            0        0        0  40,2948276786438  -3,44402412135624     NaN   \n",
       "1            0        0        1          40,28674           -3,79351     NaN   \n",
       "2            0        0        0  40,4115646786438  -3,90662252135624     NaN   \n",
       "3            0        0        0  40,2853785786438  -3,79508142135624     NaN   \n",
       "4            0        0        0  40,2998774864376  -3,45226301356237     NaN   \n",
       "...        ...      ...      ...               ...                ...     ...   \n",
       "15330        0        0        0          40,45416           -3,70286     NaN   \n",
       "15331        0        0        0          40,36652           -3,48951     NaN   \n",
       "15332        0        0        0          40,57444           -3,92124     NaN   \n",
       "15333        0        0        0          40,36967           -3,48105     NaN   \n",
       "15334        0        0        0          40,45773           -3,69068     NaN   \n",
       "\n",
       "      customZone  \n",
       "0            NaN  \n",
       "1            NaN  \n",
       "2            NaN  \n",
       "3            NaN  \n",
       "4            NaN  \n",
       "...          ...  \n",
       "15330        NaN  \n",
       "15331        NaN  \n",
       "15332        NaN  \n",
       "15333        NaN  \n",
       "15334        NaN  \n",
       "\n",
       "[15335 rows x 37 columns]"
      ]
     },
     "execution_count": 2,
     "metadata": {},
     "output_type": "execute_result"
    }
   ],
   "source": [
    "import pandas as pd\n",
    "\n",
    "# This CSV file contains semicolons instead of comas as separator\n",
    "ds = pd.read_csv('assets/real_estate.csv', sep=';')\n",
    "ds"
   ]
  },
  {
   "attachments": {},
   "cell_type": "markdown",
   "id": "latin-guest",
   "metadata": {},
   "source": [
    "#### Exercise 01. Which is the most expensive house in the dataset? (★☆☆)\n",
    "\n",
    "Print the address and the price of the selected house. For example:\n",
    "\n",
    "`The house with address General Street Nº5 is the most expensive and its price is 5000000 USD`"
   ]
  },
  {
   "cell_type": "code",
   "execution_count": 3,
   "id": "developing-optimum",
   "metadata": {},
   "outputs": [
    {
     "name": "stdout",
     "output_type": "stream",
     "text": [
      "   Unnamed: 0  id_realEstates  isNew                    realEstate_name  \\\n",
      "0           1       153771986  False            ferrari 57 inmobiliaria   \n",
      "1           2       153867863  False  tecnocasa fuenlabrada ferrocarril   \n",
      "2           3       153430440  False                 look find boadilla   \n",
      "3           4       152776331  False  tecnocasa fuenlabrada ferrocarril   \n",
      "4           5       153180188  False            ferrari 57 inmobiliaria   \n",
      "\n",
      "   phone_realEstate                                       url_inmueble  rooms  \\\n",
      "0       912177526.0  https://www.fotocasa.es/es/comprar/vivienda/ma...    3.0   \n",
      "1       916358736.0  https://www.fotocasa.es/es/comprar/vivienda/ma...    3.0   \n",
      "2       916350408.0  https://www.fotocasa.es/es/comprar/vivienda/ma...    2.0   \n",
      "3       916358736.0  https://www.fotocasa.es/es/comprar/vivienda/ma...    3.0   \n",
      "4       912177526.0  https://www.fotocasa.es/es/comprar/vivienda/ma...    2.0   \n",
      "\n",
      "   bathrooms  surface   price  ... level4Id level5Id level6Id level7Id  \\\n",
      "0        2.0    103.0  195000  ...        0        0        0        0   \n",
      "1        1.0      NaN   89000  ...        0        0        0        0   \n",
      "2        2.0     99.0  390000  ...        0        0        0        0   \n",
      "3        1.0     86.0   89000  ...        0        0        0        0   \n",
      "4        2.0    106.0  172000  ...        0        0        0        0   \n",
      "\n",
      "  level8Id accuracy          latitude          longitude zipCode customZone  \n",
      "0        0        0  40,2948276786438  -3,44402412135624     NaN        NaN  \n",
      "1        0        1          40,28674           -3,79351     NaN        NaN  \n",
      "2        0        0  40,4115646786438  -3,90662252135624     NaN        NaN  \n",
      "3        0        0  40,2853785786438  -3,79508142135624     NaN        NaN  \n",
      "4        0        0  40,2998774864376  -3,45226301356237     NaN        NaN  \n",
      "\n",
      "[5 rows x 37 columns]\n"
     ]
    }
   ],
   "source": [
    "print(ds.head())"
   ]
  },
  {
   "cell_type": "code",
   "execution_count": 4,
   "id": "2a54cc1e",
   "metadata": {},
   "outputs": [
    {
     "name": "stdout",
     "output_type": "stream",
     "text": [
      "<class 'pandas.core.frame.DataFrame'>\n",
      "RangeIndex: 15335 entries, 0 to 15334\n",
      "Data columns (total 37 columns):\n",
      " #   Column            Non-Null Count  Dtype  \n",
      "---  ------            --------------  -----  \n",
      " 0   Unnamed: 0        15335 non-null  int64  \n",
      " 1   id_realEstates    15335 non-null  int64  \n",
      " 2   isNew             15335 non-null  bool   \n",
      " 3   realEstate_name   15325 non-null  object \n",
      " 4   phone_realEstate  14541 non-null  float64\n",
      " 5   url_inmueble      15335 non-null  object \n",
      " 6   rooms             14982 non-null  float64\n",
      " 7   bathrooms         14990 non-null  float64\n",
      " 8   surface           14085 non-null  float64\n",
      " 9   price             15335 non-null  int64  \n",
      " 10  date              15335 non-null  object \n",
      " 11  description       15193 non-null  object \n",
      " 12  address           15335 non-null  object \n",
      " 13  country           15335 non-null  object \n",
      " 14  level1            15335 non-null  object \n",
      " 15  level2            15335 non-null  object \n",
      " 16  level3            15335 non-null  object \n",
      " 17  level4            8692 non-null   object \n",
      " 18  level5            15335 non-null  object \n",
      " 19  level6            708 non-null    object \n",
      " 20  level7            13058 non-null  object \n",
      " 21  level8            6756 non-null   object \n",
      " 22  upperLevel        15335 non-null  object \n",
      " 23  countryId         15335 non-null  int64  \n",
      " 24  level1Id          15335 non-null  int64  \n",
      " 25  level2Id          15335 non-null  int64  \n",
      " 26  level3Id          15335 non-null  int64  \n",
      " 27  level4Id          15335 non-null  int64  \n",
      " 28  level5Id          15335 non-null  int64  \n",
      " 29  level6Id          15335 non-null  int64  \n",
      " 30  level7Id          15335 non-null  int64  \n",
      " 31  level8Id          15335 non-null  int64  \n",
      " 32  accuracy          15335 non-null  int64  \n",
      " 33  latitude          15335 non-null  object \n",
      " 34  longitude         15335 non-null  object \n",
      " 35  zipCode           0 non-null      float64\n",
      " 36  customZone        0 non-null      float64\n",
      "dtypes: bool(1), float64(6), int64(13), object(17)\n",
      "memory usage: 4.2+ MB\n",
      "None\n"
     ]
    }
   ],
   "source": [
    "print(ds.info())"
   ]
  },
  {
   "cell_type": "code",
   "execution_count": 5,
   "id": "8c0bd120",
   "metadata": {},
   "outputs": [
    {
     "name": "stdout",
     "output_type": "stream",
     "text": [
      "         Unnamed: 0  id_realEstates  phone_realEstate         rooms  \\\n",
      "count  15335.000000    1.533500e+04      1.454100e+04  14982.000000   \n",
      "mean    7668.000000    1.524371e+08      9.143423e+08      3.231611   \n",
      "std     4426.977524    2.277286e+06      7.516036e+06      1.393106   \n",
      "min        1.000000    1.221584e+08      8.762742e+08      1.000000   \n",
      "25%     3834.500000    1.519456e+08      9.113649e+08      2.000000   \n",
      "50%     7668.000000    1.532413e+08      9.121841e+08      3.000000   \n",
      "75%    11501.500000    1.538105e+08      9.148904e+08      4.000000   \n",
      "max    15335.000000    1.540033e+08      9.887761e+08     30.000000   \n",
      "\n",
      "          bathrooms        surface         price  countryId  level1Id  \\\n",
      "count  14990.000000   14085.000000  1.533500e+04    15335.0   15335.0   \n",
      "mean       2.150233     196.916436  4.773036e+05        0.0       0.0   \n",
      "std        1.292079    2182.758313  5.912942e+05        0.0       0.0   \n",
      "min        1.000000      15.000000  0.000000e+00        0.0       0.0   \n",
      "25%        1.000000      80.000000  1.690000e+05        0.0       0.0   \n",
      "50%        2.000000     114.000000  2.800000e+05        0.0       0.0   \n",
      "75%        3.000000     205.000000  5.400000e+05        0.0       0.0   \n",
      "max       20.000000  249000.000000  8.500000e+06        0.0       0.0   \n",
      "\n",
      "       level2Id  level3Id  level4Id  level5Id  level6Id  level7Id  level8Id  \\\n",
      "count   15335.0   15335.0   15335.0   15335.0   15335.0   15335.0   15335.0   \n",
      "mean        0.0       0.0       0.0       0.0       0.0       0.0       0.0   \n",
      "std         0.0       0.0       0.0       0.0       0.0       0.0       0.0   \n",
      "min         0.0       0.0       0.0       0.0       0.0       0.0       0.0   \n",
      "25%         0.0       0.0       0.0       0.0       0.0       0.0       0.0   \n",
      "50%         0.0       0.0       0.0       0.0       0.0       0.0       0.0   \n",
      "75%         0.0       0.0       0.0       0.0       0.0       0.0       0.0   \n",
      "max         0.0       0.0       0.0       0.0       0.0       0.0       0.0   \n",
      "\n",
      "           accuracy  zipCode  customZone  \n",
      "count  15335.000000      0.0         0.0  \n",
      "mean       0.166873      NaN         NaN  \n",
      "std        0.372875      NaN         NaN  \n",
      "min        0.000000      NaN         NaN  \n",
      "25%        0.000000      NaN         NaN  \n",
      "50%        0.000000      NaN         NaN  \n",
      "75%        0.000000      NaN         NaN  \n",
      "max        1.000000      NaN         NaN  \n"
     ]
    }
   ],
   "source": [
    "print(ds.describe())"
   ]
  },
  {
   "cell_type": "code",
   "execution_count": 6,
   "id": "c92e912c",
   "metadata": {},
   "outputs": [
    {
     "name": "stdout",
     "output_type": "stream",
     "text": [
      "<bound method DataFrame.sum of        Unnamed: 0  id_realEstates  isNew  realEstate_name  phone_realEstate  \\\n",
      "0           False           False  False            False             False   \n",
      "1           False           False  False            False             False   \n",
      "2           False           False  False            False             False   \n",
      "3           False           False  False            False             False   \n",
      "4           False           False  False            False             False   \n",
      "...           ...             ...    ...              ...               ...   \n",
      "15330       False           False  False            False             False   \n",
      "15331       False           False  False            False             False   \n",
      "15332       False           False  False            False             False   \n",
      "15333       False           False  False            False             False   \n",
      "15334       False           False  False            False             False   \n",
      "\n",
      "       url_inmueble  rooms  bathrooms  surface  price  ...  level4Id  \\\n",
      "0             False  False      False    False  False  ...     False   \n",
      "1             False  False      False     True  False  ...     False   \n",
      "2             False  False      False    False  False  ...     False   \n",
      "3             False  False      False    False  False  ...     False   \n",
      "4             False  False      False    False  False  ...     False   \n",
      "...             ...    ...        ...      ...    ...  ...       ...   \n",
      "15330         False  False      False    False  False  ...     False   \n",
      "15331         False  False      False    False  False  ...     False   \n",
      "15332         False  False      False    False  False  ...     False   \n",
      "15333         False  False      False    False  False  ...     False   \n",
      "15334         False  False      False    False  False  ...     False   \n",
      "\n",
      "       level5Id  level6Id  level7Id  level8Id  accuracy  latitude  longitude  \\\n",
      "0         False     False     False     False     False     False      False   \n",
      "1         False     False     False     False     False     False      False   \n",
      "2         False     False     False     False     False     False      False   \n",
      "3         False     False     False     False     False     False      False   \n",
      "4         False     False     False     False     False     False      False   \n",
      "...         ...       ...       ...       ...       ...       ...        ...   \n",
      "15330     False     False     False     False     False     False      False   \n",
      "15331     False     False     False     False     False     False      False   \n",
      "15332     False     False     False     False     False     False      False   \n",
      "15333     False     False     False     False     False     False      False   \n",
      "15334     False     False     False     False     False     False      False   \n",
      "\n",
      "       zipCode  customZone  \n",
      "0         True        True  \n",
      "1         True        True  \n",
      "2         True        True  \n",
      "3         True        True  \n",
      "4         True        True  \n",
      "...        ...         ...  \n",
      "15330     True        True  \n",
      "15331     True        True  \n",
      "15332     True        True  \n",
      "15333     True        True  \n",
      "15334     True        True  \n",
      "\n",
      "[15335 rows x 37 columns]>\n"
     ]
    }
   ],
   "source": [
    "print(ds.isnull().sum)"
   ]
  },
  {
   "cell_type": "code",
   "execution_count": 7,
   "id": "c8e58668",
   "metadata": {},
   "outputs": [
    {
     "name": "stdout",
     "output_type": "stream",
     "text": [
      "La casa más cara en el conjunto de datos es:\n",
      "Unnamed: 0                                                      13111\n",
      "id_realEstates                                              132042636\n",
      "isNew                                                           False\n",
      "realEstate_name                            engel volkers torrelodones\n",
      "phone_realEstate                                          911798512.0\n",
      "url_inmueble        https://www.fotocasa.es/es/comprar/vivienda/vi...\n",
      "rooms                                                            19.0\n",
      "bathrooms                                                         NaN\n",
      "surface                                                           NaN\n",
      "price                                                         8500000\n",
      "date                                             2019-12-19T12:29:00Z\n",
      "description         El Palacio de El Enebral, la finca fue propied...\n",
      "address                                                   El Escorial\n",
      "country                                                        España\n",
      "level1                                                         Madrid\n",
      "level2                                                         Madrid\n",
      "level3                                                  Zona Noroeste\n",
      "level4                                           El Escorial, Zona de\n",
      "level5                                                    El Escorial\n",
      "level6                                                            NaN\n",
      "level7                                             Centro - Manquilla\n",
      "level8                                                            NaN\n",
      "upperLevel                                         Centro - Manquilla\n",
      "countryId                                                           0\n",
      "level1Id                                                            0\n",
      "level2Id                                                            0\n",
      "level3Id                                                            0\n",
      "level4Id                                                            0\n",
      "level5Id                                                            0\n",
      "level6Id                                                            0\n",
      "level7Id                                                            0\n",
      "level8Id                                                            0\n",
      "accuracy                                                            0\n",
      "latitude                                             40,5830801751782\n",
      "longitude                                           -4,12951942848611\n",
      "zipCode                                                           NaN\n",
      "customZone                                                        NaN\n",
      "Name: 13110, dtype: object\n"
     ]
    }
   ],
   "source": [
    "most_expensive_house = ds.loc[ds['price'].idxmax()]\n",
    "\n",
    "print(\"La casa más cara en el conjunto de datos es:\")\n",
    "print(most_expensive_house)"
   ]
  },
  {
   "attachments": {},
   "cell_type": "markdown",
   "id": "lesser-cosmetic",
   "metadata": {},
   "source": [
    "#### Exercise 02. Which is the cheapest house in the dataset? (★☆☆)\n",
    "\n",
    "Print the address and the price of the selected house. For example:\n",
    "\n",
    "`The house with address Concrete Street Nº1 is the cheapest and its price is 12000 USD`"
   ]
  },
  {
   "cell_type": "code",
   "execution_count": 8,
   "id": "lovely-oasis",
   "metadata": {},
   "outputs": [
    {
     "name": "stdout",
     "output_type": "stream",
     "text": [
      "La casa más barata en el conjunto de datos es:\n",
      "Unnamed: 0                                                        367\n",
      "id_realEstates                                              153637952\n",
      "isNew                                                           False\n",
      "realEstate_name                                                esalje\n",
      "phone_realEstate                                          912786497.0\n",
      "url_inmueble        https://www.fotocasa.es/es/comprar/vivienda/ma...\n",
      "rooms                                                             4.0\n",
      "bathrooms                                                         4.0\n",
      "surface                                                         262.0\n",
      "price                                                               0\n",
      "date                                      2019-12-28T18:52:25.965658Z\n",
      "description         ESALJE vende amplio pareado de 268 m2. distrib...\n",
      "address                                                         Parla\n",
      "country                                                        España\n",
      "level1                                                         Madrid\n",
      "level2                                                         Madrid\n",
      "level3                                             Zona Sur de Madrid\n",
      "level4                                                 Parla, Zona de\n",
      "level5                                                          Parla\n",
      "level6                                                            NaN\n",
      "level7                                          Fuentebella - El Nido\n",
      "level8                                                            NaN\n",
      "upperLevel                                      Fuentebella - El Nido\n",
      "countryId                                                           0\n",
      "level1Id                                                            0\n",
      "level2Id                                                            0\n",
      "level3Id                                                            0\n",
      "level4Id                                                            0\n",
      "level5Id                                                            0\n",
      "level6Id                                                            0\n",
      "level7Id                                                            0\n",
      "level8Id                                                            0\n",
      "accuracy                                                            0\n",
      "latitude                                                     40,23202\n",
      "longitude                                                    -3,78132\n",
      "zipCode                                                           NaN\n",
      "customZone                                                        NaN\n",
      "Name: 366, dtype: object\n"
     ]
    }
   ],
   "source": [
    "casa_mas_barata = ds.loc[ds['price'].idxmin()]\n",
    "\n",
    "print(\"La casa más barata en el conjunto de datos es:\")\n",
    "print(casa_mas_barata)"
   ]
  },
  {
   "attachments": {},
   "cell_type": "markdown",
   "id": "compliant-fellowship",
   "metadata": {},
   "source": [
    "#### Exercise 03. Which is the biggest and the smallest house in the dataset? (★☆☆)\n",
    "\n",
    "Print both the address and the surface of the selected houses. For example:\n",
    "\n",
    "`The biggest house is located on Yukka Street Nº10 and its surface is 5000 meters`\n",
    "\n",
    "`The smallest house is located on County Road 1 N and its surface is 200 meters`"
   ]
  },
  {
   "cell_type": "code",
   "execution_count": 9,
   "id": "every-tiffany",
   "metadata": {},
   "outputs": [
    {
     "name": "stdout",
     "output_type": "stream",
     "text": [
      "La casa más grande en el conjunto de datos es:\n",
      "Unnamed: 0                                                       6795\n",
      "id_realEstates                                              153936192\n",
      "isNew                                                           False\n",
      "realEstate_name                               habitarium inmobiliaria\n",
      "phone_realEstate                                          916357732.0\n",
      "url_inmueble        https://www.fotocasa.es/es/comprar/vivienda/ma...\n",
      "rooms                                                             3.0\n",
      "bathrooms                                                         2.0\n",
      "surface                                                      249000.0\n",
      "price                                                          289000\n",
      "date                                             2019-12-25T18:30:00Z\n",
      "description         Zona Centro. Chalet pareado de esquina de 249m...\n",
      "address                                              Sevilla la Nueva\n",
      "country                                                        España\n",
      "level1                                                         Madrid\n",
      "level2                                                         Madrid\n",
      "level3                                                  Zona Suroeste\n",
      "level4                                      Sevilla la Nueva, Zona de\n",
      "level5                                               Sevilla la Nueva\n",
      "level6                                                            NaN\n",
      "level7                                                            NaN\n",
      "level8                                                            NaN\n",
      "upperLevel                                           Sevilla la Nueva\n",
      "countryId                                                           0\n",
      "level1Id                                                            0\n",
      "level2Id                                                            0\n",
      "level3Id                                                            0\n",
      "level4Id                                                            0\n",
      "level5Id                                                            0\n",
      "level6Id                                                            0\n",
      "level7Id                                                            0\n",
      "level8Id                                                            0\n",
      "accuracy                                                            0\n",
      "latitude                                                     40,34633\n",
      "longitude                                                    -4,02174\n",
      "zipCode                                                           NaN\n",
      "customZone                                                        NaN\n",
      "Name: 6794, dtype: object\n"
     ]
    }
   ],
   "source": [
    "# Encontrar la casa más grande\n",
    "casa_mas_grande = ds.loc[ds['surface'].idxmax()]\n",
    "\n",
    "print(\"La casa más grande en el conjunto de datos es:\")\n",
    "print(casa_mas_grande)"
   ]
  },
  {
   "cell_type": "code",
   "execution_count": 10,
   "id": "8709b98d",
   "metadata": {},
   "outputs": [
    {
     "name": "stdout",
     "output_type": "stream",
     "text": [
      "La casa más pequeña en el conjunto de datos es:\n",
      "Unnamed: 0                                                        499\n",
      "id_realEstates                                              152817874\n",
      "isNew                                                           False\n",
      "realEstate_name                                              toledo21\n",
      "phone_realEstate                                          910757382.0\n",
      "url_inmueble        https://www.fotocasa.es/es/comprar/vivienda/ma...\n",
      "rooms                                                             1.0\n",
      "bathrooms                                                         1.0\n",
      "surface                                                          15.0\n",
      "price                                                           85000\n",
      "date                                     2019-12-28T19:04:44.6433814Z\n",
      "description         ¡NO BUSQUES MÁS, YA LA HAS ENCONTRADO! . \\n \\n...\n",
      "address                                 Calle Amparo,  Madrid Capital\n",
      "country                                                        España\n",
      "level1                                                         Madrid\n",
      "level2                                                         Madrid\n",
      "level3                                                Madrid, Zona de\n",
      "level4                                                            NaN\n",
      "level5                                                 Madrid Capital\n",
      "level6                                                            NaN\n",
      "level7                                                         Centro\n",
      "level8                                         Embajadores - Lavapiés\n",
      "upperLevel                                     Embajadores - Lavapiés\n",
      "countryId                                                           0\n",
      "level1Id                                                            0\n",
      "level2Id                                                            0\n",
      "level3Id                                                            0\n",
      "level4Id                                                            0\n",
      "level5Id                                                            0\n",
      "level6Id                                                            0\n",
      "level7Id                                                            0\n",
      "level8Id                                                            0\n",
      "accuracy                                                            0\n",
      "latitude                                                     40,40818\n",
      "longitude                                                    -3,70192\n",
      "zipCode                                                           NaN\n",
      "customZone                                                        NaN\n",
      "Name: 498, dtype: object\n"
     ]
    }
   ],
   "source": [
    "# Encontrar la casa más pequeña\n",
    "casa_mas_pequena = ds.loc[ds['surface'].idxmin()]\n",
    "\n",
    "print(\"La casa más pequeña en el conjunto de datos es:\")\n",
    "print(casa_mas_pequena)"
   ]
  },
  {
   "attachments": {},
   "cell_type": "markdown",
   "id": "danish-spirit",
   "metadata": {},
   "source": [
    "#### Exercise 04. How many populations (level5 column) the dataset contains? (★☆☆)\n",
    "\n",
    "Print the names of the populations with a comma as a separator. For example:\n",
    "\n",
    "`> print(populations)`\n",
    "\n",
    "`population1, population2, population3, ...`"
   ]
  },
  {
   "cell_type": "code",
   "execution_count": 11,
   "id": "exciting-accreditation",
   "metadata": {},
   "outputs": [
    {
     "name": "stdout",
     "output_type": "stream",
     "text": [
      "Las poblaciones en el conjunto de datos son:\n",
      "Arganda del Rey, Fuenlabrada, Boadilla del Monte, Las Rozas de Madrid,  Madrid Capital, Villaviciosa de Odón, Pinto, Valdemoro, Navalcarnero, Pozuelo de Alarcón, Torrejón de Ardoz, Navalagamella, San Sebastián de los Reyes, Rivas-vaciamadrid, Alpedrete, Móstoles, San Fernando de Henares, Coslada, Becerril de la Sierra, Alcalá de Henares, Chinchón, Parla, Alcorcón, El Escorial, Leganés, Pedrezuela, Majadahonda, Villanueva de la Cañada, Villanueva del Pardillo, Torrelodones, Moralzarzal, Mejorada del Campo, Aranjuez, Corpa, Getafe, Velilla de San Antonio, Sevilla la Nueva, San Martín de la Vega, Villalbilla, Collado Villalba, Alcobendas, El Molar (Madrid), Moraleja de Enmedio, Algete, Campo Real, Torrejón de la Calzada, Colmenar Viejo, Valdemorillo, Fuente El Saz de Jarama, Tres Cantos, Arroyomolinos (Madrid), Griñón, Paracuellos de Jarama, Guadarrama, Titulcia, Galapagar, Collado Mediano, Los Molinos, San Lorenzo de El Escorial, Loeches, San Martín de Valdeiglesias, Navas del Rey, Bustarviejo, Manzanares El Real, Carabaña, Casarrubuelos, Cercedilla, Fresnedillas de la Oliva, Valdemaqueda, Robledo de Chavela, Miraflores de la Sierra, Humanes de Madrid, Valdetorres de Jarama, San Agustín del Guadalix, Ciempozuelos, Camarma de Esteruelas, Torres de la Alameda, Talamanca de Jarama, El Atazar, Hoyo de Manzanares, El Boalo - Cerceda – Mataelpino, El Álamo, Valdilecha, Valdeolmos-Alalpardo, Guadalix de la Sierra, Belmonte de Tajo, El Vellón, Brunete, Redueña, Morata de Tajuña, Tielmes, Gargantilla del Lozoya, Meco, Venturada, Quijorna, Cenicientos, Torrejón de Velasco, Navacerrada, Santa María de la Alameda, Orusco de Tajuña, Daganzo de Arriba, Villamanta, Anchuelo, Valdaracete, Ajalvir, Los Santos de la Humosa, Villamanrique de Tajo, Colmenar de Oreja, Villa del Prado, Fuentidueña de Tajo, Colmenar del Arroyo, Valdelaguna, Cubas de la Sagra, Valdeavero, Aldea del Fresno, Ribatejada, Torrelaguna, Batres, Pezuela de las Torres, Colmenarejo, Serranillos del Valle, Cobeña, Soto del Real, El Berrueco, Villanueva de Perales, Fresno de Torote - Serracines, Pozuelo del Rey, Pelayos de la Presa, La Cabrera, Nuevo Baztán, Perales de Tajuña, Villaconejos, Villarejo de Salvanés, Cadalso de los Vidrios, Santorcaz, Madarcos, Garganta de los Montes, Puentes Viejas, Torremocha de Jarama, Valdemanco, Braojos, Lozoyuela-navas-sieteiglesias, Piñuécar-gandullas, Valdepiélagos, Valverde de Alcalá, Villar del Olmo, Villamantilla, Horcajo de la Sierra, Gascones, Zarzalejo, Villavieja del Lozoya, Brea de Tajo, Estremera, Chapinería, Navarredonda, Patones, Ambite, Navalafuente, Lozoya, Canencia, Cabanillas de la Sierra, Buitrago del Lozoya, Fresno de Torote, Robregordo, Pinilla del Valle, Rascafría, La Hiruela, Montejo de la Sierra\n"
     ]
    }
   ],
   "source": [
    "# Obtener las poblaciones únicas en la columna 'level5'\n",
    "poblaciones_unicas = ds['level5'].unique()\n",
    "\n",
    "# Convertir el array de poblaciones únicas a una lista separada por comas\n",
    "poblaciones_lista = ', '.join(poblaciones_unicas)\n",
    "\n",
    "print(\"Las poblaciones en el conjunto de datos son:\")\n",
    "print(poblaciones_lista)"
   ]
  },
  {
   "attachments": {},
   "cell_type": "markdown",
   "id": "crazy-blame",
   "metadata": {},
   "source": [
    "#### Exercise 05. Does the dataset contain NAs? (★☆☆)\n",
    "\n",
    "Print a boolean value (`True` or `False`) followed by the rows/cols that contains NAs."
   ]
  },
  {
   "cell_type": "code",
   "execution_count": 12,
   "id": "transparent-poetry",
   "metadata": {},
   "outputs": [
    {
     "name": "stdout",
     "output_type": "stream",
     "text": [
      "Número de valores nulos por columna:\n",
      "Unnamed: 0              0\n",
      "id_realEstates          0\n",
      "isNew                   0\n",
      "realEstate_name        10\n",
      "phone_realEstate      794\n",
      "url_inmueble            0\n",
      "rooms                 353\n",
      "bathrooms             345\n",
      "surface              1250\n",
      "price                   0\n",
      "date                    0\n",
      "description           142\n",
      "address                 0\n",
      "country                 0\n",
      "level1                  0\n",
      "level2                  0\n",
      "level3                  0\n",
      "level4               6643\n",
      "level5                  0\n",
      "level6              14627\n",
      "level7               2277\n",
      "level8               8579\n",
      "upperLevel              0\n",
      "countryId               0\n",
      "level1Id                0\n",
      "level2Id                0\n",
      "level3Id                0\n",
      "level4Id                0\n",
      "level5Id                0\n",
      "level6Id                0\n",
      "level7Id                0\n",
      "level8Id                0\n",
      "accuracy                0\n",
      "latitude                0\n",
      "longitude               0\n",
      "zipCode             15335\n",
      "customZone          15335\n",
      "dtype: int64\n"
     ]
    }
   ],
   "source": [
    "valores_nulos = ds.isnull().sum()\n",
    "\n",
    "print(\"Número de valores nulos por columna:\")\n",
    "print(valores_nulos)"
   ]
  },
  {
   "attachments": {},
   "cell_type": "markdown",
   "id": "italic-hydrogen",
   "metadata": {},
   "source": [
    "#### Exercise 06. Delete the NAs of the dataset, if applicable (★★☆)\n",
    "\n",
    "Print a comparison between the dimensions of the original DataFrame versus the DataFrame after the deletions."
   ]
  },
  {
   "cell_type": "code",
   "execution_count": 13,
   "id": "5881b847",
   "metadata": {},
   "outputs": [
    {
     "name": "stdout",
     "output_type": "stream",
     "text": [
      "Dimensiones del DataFrame después de eliminar valores nulos: (0, 37)\n"
     ]
    }
   ],
   "source": [
    "# Eliminar filas con valores nulos\n",
    "ds_sin_nulos = ds.dropna()\n",
    "\n",
    "# Verificar la forma del nuevo DataFrame sin valores nulos\n",
    "print(\"Dimensiones del DataFrame después de eliminar valores nulos:\", ds_sin_nulos.shape)"
   ]
  },
  {
   "attachments": {},
   "cell_type": "markdown",
   "id": "middle-china",
   "metadata": {},
   "source": [
    "#### Exercise 07. Which is the mean of prices in the population (level5 column) of \"Arroyomolinos (Madrid)\"? (★★☆)\n",
    "\n",
    "Print the obtained value."
   ]
  },
  {
   "cell_type": "code",
   "execution_count": 14,
   "id": "8188340b",
   "metadata": {},
   "outputs": [
    {
     "name": "stdout",
     "output_type": "stream",
     "text": [
      "La media de los precios en Arroyomolinos (Madrid) es: 293338.3985507246\n"
     ]
    }
   ],
   "source": [
    "# Filtrar las filas donde 'address' contiene 'Arroyomolinos'\n",
    "arroyomolinos_data = ds[ds['address'].str.contains('Arroyomolinos', na=False)]\n",
    "\n",
    "# Calcular la media de los precios en Arroyomolinos\n",
    "mean_price_arroyomolinos = arroyomolinos_data['price'].mean()\n",
    "\n",
    "# Imprimir el resultado\n",
    "print(\"La media de los precios en Arroyomolinos (Madrid) es:\", mean_price_arroyomolinos)"
   ]
  },
  {
   "attachments": {},
   "cell_type": "markdown",
   "id": "concerned-radical",
   "metadata": {},
   "source": [
    "#### Exercise 08. Plot the histogram of prices for the population (level5 column) of \"Arroyomolinos (Madrid)\" and explain what you observe (★★☆)\n",
    "\n",
    "Print the histogram of the prices and write in the Markdown cell a brief analysis about the plot."
   ]
  },
  {
   "cell_type": "code",
   "execution_count": 15,
   "id": "sudden-message",
   "metadata": {},
   "outputs": [
    {
     "data": {
      "image/png": "[encoded data removed]",
      "text/plain": [
       "<Figure size 1000x600 with 1 Axes>"
      ]
     },
     "metadata": {},
     "output_type": "display_data"
    }
   ],
   "source": [
    "import pandas as pd\n",
    "import matplotlib.pyplot as plt\n",
    "import seaborn as sns\n",
    "\n",
    "# Paso 1: Filtrar datos para \"Arroyomolinos (Madrid)\"\n",
    "arroyomolinos_data = ds[ds['address'].str.contains('Arroyomolinos', na=False)]\n",
    "\n",
    "# Paso 2: Crear histograma de precios\n",
    "plt.figure(figsize=(10, 6))\n",
    "sns.histplot(arroyomolinos_data['price'], bins=20, kde=True, color='blue', alpha=0.7)\n",
    "plt.title('Histograma de Precios en Arroyomolinos (Madrid)')\n",
    "plt.xlabel('Precio')\n",
    "plt.ylabel('Frecuencia')\n",
    "plt.grid(True)\n",
    "plt.show()"
   ]
  },
  {
   "cell_type": "markdown",
   "id": "a169d5ec",
   "metadata": {},
   "source": [
    "En el histograma podemos observar que el precio de las viviendas de la zona se situa entre los 200.000 € y 400.000 €\n",
    "Con picos fuertes en los 200.000 € y alrededor de los 265.000 €, ello puede ser por el tamañio de las viviendas o numero de habitaciones, lo mismo se repite en los 325.000 €"
   ]
  },
  {
   "attachments": {},
   "cell_type": "markdown",
   "id": "impressed-combination",
   "metadata": {},
   "source": [
    "**TODO: Markdown**. To write here, double-click on this cell, remove this content and place the text you want to write. Then, execute the cell."
   ]
  },
  {
   "attachments": {},
   "cell_type": "markdown",
   "id": "actual-edinburgh",
   "metadata": {},
   "source": [
    "#### Exercise 09. Are the average prices of \"Valdemorillo\" and \"Galapagar\" the same? (★★☆)\n",
    "\n",
    "Print both average prices and then write a conclusion about them."
   ]
  },
  {
   "cell_type": "code",
   "execution_count": 16,
   "id": "numeric-commerce",
   "metadata": {},
   "outputs": [
    {
     "name": "stdout",
     "output_type": "stream",
     "text": [
      "Los precios promedio de Valdemorillo y Galapagar son diferentes.\n",
      "Precio promedio en Valdemorillo: 363860.2931034483\n",
      "Precio promedio en Galapagar: 358062.4588235294\n"
     ]
    }
   ],
   "source": [
    "# Paso 1: Filtrar los datos para \"Valdemorillo\" y \"Galapagar\"\n",
    "valdemorillo_data = ds[ds['address'].str.contains('Valdemorillo', na=False)]\n",
    "galapagar_data = ds[ds['address'].str.contains('Galapagar', na=False)]\n",
    "\n",
    "# Paso 2: Calcular los precios promedio\n",
    "mean_price_valdemorillo = valdemorillo_data['price'].mean()\n",
    "mean_price_galapagar = galapagar_data['price'].mean()\n",
    "\n",
    "# Paso 3: Comparar los precios promedio\n",
    "if abs(mean_price_valdemorillo - mean_price_galapagar) < 1e-6:\n",
    "    print(\"Los precios promedio de Valdemorillo y Galapagar son aproximadamente iguales.\")\n",
    "else:\n",
    "    print(\"Los precios promedio de Valdemorillo y Galapagar son diferentes.\")\n",
    "\n",
    "# Opcionalmente, puedes imprimir los precios promedio para comparación\n",
    "print(f\"Precio promedio en Valdemorillo: {mean_price_valdemorillo}\")\n",
    "print(f\"Precio promedio en Galapagar: {mean_price_galapagar}\")"
   ]
  },
  {
   "attachments": {},
   "cell_type": "markdown",
   "id": "lonely-article",
   "metadata": {},
   "source": [
    "#### Exercise 10. Are the average prices per square meter (price/m2) of \"Valdemorillo\" and \"Galapagar\" the same? (★★☆)\n",
    "\n",
    "Print both average prices and then write a conclusion about it.\n",
    "\n",
    "Hint: Create a new column called `pps` (price per square meter) and then analyze the values."
   ]
  },
  {
   "cell_type": "code",
   "execution_count": 20,
   "id": "hourly-globe",
   "metadata": {},
   "outputs": [
    {
     "name": "stdout",
     "output_type": "stream",
     "text": [
      "Precio promedio por metro cuadrado en Valdemorillo: 1317.9502109024986\n",
      "Precio promedio por metro cuadrado en Galapagar: 1618.5215211386646\n",
      "Los precios promedio por metro cuadrado en Valdemorillo y Galapagar son diferentes.\n"
     ]
    }
   ],
   "source": [
    "# Paso 1: Crear una nueva columna de precio por metro cuadrado (pps)\n",
    "ds['pps'] = ds['price'] / ds['surface']\n",
    "\n",
    "# Paso 2: Filtrar los datos para \"Valdemorillo\" y \"Galapagar\" y calcular las medias\n",
    "valdemorillo_data = ds[ds['address'].str.contains('Valdemorillo', na=False)]\n",
    "galapagar_data = ds[ds['address'].str.contains('Galapagar', na=False)]\n",
    "\n",
    "mean_pps_valdemorillo = valdemorillo_data['pps'].mean()\n",
    "mean_pps_galapagar = galapagar_data['pps'].mean()\n",
    "\n",
    "# Paso 3: Imprimir las medias de precios por metro cuadrado y comparar\n",
    "print(f\"Precio promedio por metro cuadrado en Valdemorillo: {mean_pps_valdemorillo}\")\n",
    "print(f\"Precio promedio por metro cuadrado en Galapagar: {mean_pps_galapagar}\")\n",
    "\n",
    "# Comparación\n",
    "if abs(mean_pps_valdemorillo - mean_pps_galapagar) < 1e-6:\n",
    "    print(\"Los precios promedio por metro cuadrado en Valdemorillo y Galapagar son aproximadamente iguales.\")\n",
    "else:\n",
    "    print(\"Los precios promedio por metro cuadrado en Valdemorillo y Galapagar son diferentes.\")"
   ]
  },
  {
   "attachments": {},
   "cell_type": "markdown",
   "id": "pleasant-invite",
   "metadata": {},
   "source": [
    "#### Exercise 11. Analyze the relation between the surface and the price of the houses (★★☆)\n",
    "\n",
    "Hint: You can make a `scatter plot`, then write a conclusion about it."
   ]
  },
  {
   "cell_type": "code",
   "execution_count": 19,
   "id": "common-drilling",
   "metadata": {},
   "outputs": [
    {
     "ename": "NameError",
     "evalue": "name 'filtered_ds' is not defined",
     "output_type": "error",
     "traceback": [
      "\u001b[0;31m---------------------------------------------------------------------------\u001b[0m",
      "\u001b[0;31mNameError\u001b[0m                                 Traceback (most recent call last)",
      "Cell \u001b[0;32mIn[19], line 3\u001b[0m\n\u001b[1;32m      1\u001b[0m \u001b[38;5;66;03m# Scatter plot para analizar la relación entre surface y pps\u001b[39;00m\n\u001b[1;32m      2\u001b[0m plt\u001b[38;5;241m.\u001b[39mfigure(figsize\u001b[38;5;241m=\u001b[39m(\u001b[38;5;241m10\u001b[39m, \u001b[38;5;241m6\u001b[39m))\n\u001b[0;32m----> 3\u001b[0m sns\u001b[38;5;241m.\u001b[39mscatterplot(data\u001b[38;5;241m=\u001b[39m\u001b[43mfiltered_ds\u001b[49m, x\u001b[38;5;241m=\u001b[39m\u001b[38;5;124m'\u001b[39m\u001b[38;5;124msurface\u001b[39m\u001b[38;5;124m'\u001b[39m, y\u001b[38;5;241m=\u001b[39m\u001b[38;5;124m'\u001b[39m\u001b[38;5;124mpps\u001b[39m\u001b[38;5;124m'\u001b[39m)\n\u001b[1;32m      4\u001b[0m plt\u001b[38;5;241m.\u001b[39mtitle(\u001b[38;5;124m'\u001b[39m\u001b[38;5;124mRelación entre Superficie y Precio por Metro Cuadrado (pps)\u001b[39m\u001b[38;5;124m'\u001b[39m)\n\u001b[1;32m      5\u001b[0m plt\u001b[38;5;241m.\u001b[39mxlabel(\u001b[38;5;124m'\u001b[39m\u001b[38;5;124mSuperficie (m²)\u001b[39m\u001b[38;5;124m'\u001b[39m)\n",
      "\u001b[0;31mNameError\u001b[0m: name 'filtered_ds' is not defined"
     ]
    },
    {
     "data": {
      "text/plain": [
       "<Figure size 1000x600 with 0 Axes>"
      ]
     },
     "metadata": {},
     "output_type": "display_data"
    }
   ],
   "source": [
    "\n",
    "# Scatter plot para analizar la relación entre surface y pps\n",
    "plt.figure(figsize=(10, 6))\n",
    "sns.scatterplot(data=filtered_ds, x='surface', y='pps')\n",
    "plt.title('Relación entre Superficie y Precio por Metro Cuadrado (pps)')\n",
    "plt.xlabel('Superficie (m²)')\n",
    "plt.ylabel('Precio por Metro Cuadrado (€/m²)')\n",
    "plt.grid(True)\n",
    "plt.show()"
   ]
  },
  {
   "attachments": {},
   "cell_type": "markdown",
   "id": "ahead-liquid",
   "metadata": {},
   "source": [
    "**TODO: Markdown**. To write here, double-click on this cell, remove this content and place the text you want to write. Then, execute the cell."
   ]
  },
  {
   "attachments": {},
   "cell_type": "markdown",
   "id": "coordinate-sunrise",
   "metadata": {},
   "source": [
    "#### Exercise 12. How many real estate agencies does the dataset contain? (★★☆)\n",
    "\n",
    "Print the obtained value."
   ]
  },
  {
   "cell_type": "code",
   "execution_count": 21,
   "id": "valid-honolulu",
   "metadata": {},
   "outputs": [
    {
     "name": "stdout",
     "output_type": "stream",
     "text": [
      "El dataset contiene 1821 agencias inmobiliarias únicas.\n"
     ]
    }
   ],
   "source": [
    "# Contar el número de agencias inmobiliarias únicas\n",
    "num_agencias = ds['realEstate_name'].nunique()\n",
    "\n",
    "print(f\"El dataset contiene {num_agencias} agencias inmobiliarias únicas.\")"
   ]
  },
  {
   "attachments": {},
   "cell_type": "markdown",
   "id": "binding-ebony",
   "metadata": {},
   "source": [
    "#### Exercise 13. Which is the population (level5 column) that contains the most houses? (★★☆)\n",
    "\n",
    "Print both the population and the number of houses."
   ]
  },
  {
   "cell_type": "code",
   "execution_count": 22,
   "id": "static-perry",
   "metadata": {},
   "outputs": [
    {
     "name": "stdout",
     "output_type": "stream",
     "text": [
      "La población con la mayor cantidad de viviendas es ' Madrid Capital' con 6643 viviendas.\n"
     ]
    }
   ],
   "source": [
    "# Contar el número de viviendas por población (level5)\n",
    "house_counts = ds['level5'].value_counts()\n",
    "\n",
    "# Obtener la población con el mayor número de viviendas\n",
    "poblacion_mas_viviendas = house_counts.idxmax()\n",
    "num_viviendas = house_counts.max()\n",
    "\n",
    "print(f\"La población con la mayor cantidad de viviendas es '{poblacion_mas_viviendas}' con {num_viviendas} viviendas.\")"
   ]
  },
  {
   "attachments": {},
   "cell_type": "markdown",
   "id": "entire-classification",
   "metadata": {},
   "source": [
    "#### Exercise 14. Now let's work with the \"south belt\" of Madrid. Make a subset of the original DataFrame that contains the following populations (level5 column): \"Fuenlabrada\", \"Leganés\", \"Getafe\", \"Alcorcón\" (★★☆)\n",
    "\n",
    "Hint: Filter the original DataFrame using the column `level5` and the function `isin`."
   ]
  },
  {
   "cell_type": "code",
   "execution_count": 23,
   "id": "binary-input",
   "metadata": {},
   "outputs": [
    {
     "name": "stdout",
     "output_type": "stream",
     "text": [
      "     Unnamed: 0  id_realEstates  isNew                    realEstate_name  \\\n",
      "1             2       153867863  False  tecnocasa fuenlabrada ferrocarril   \n",
      "3             4       152776331  False  tecnocasa fuenlabrada ferrocarril   \n",
      "85           86       153152077  False            sinergical inmobiliaria   \n",
      "94           95       153995577  False                    viviendas365com   \n",
      "109         110       153586414  False    area uno asesores inmobiliarios   \n",
      "\n",
      "     phone_realEstate                                       url_inmueble  \\\n",
      "1         916358736.0  https://www.fotocasa.es/es/comprar/vivienda/ma...   \n",
      "3         916358736.0  https://www.fotocasa.es/es/comprar/vivienda/ma...   \n",
      "85                NaN  https://www.fotocasa.es/es/comprar/vivienda/le...   \n",
      "94        911226014.0  https://www.fotocasa.es/es/comprar/vivienda/le...   \n",
      "109       912664081.0  https://www.fotocasa.es/es/comprar/vivienda/ma...   \n",
      "\n",
      "     rooms  bathrooms  surface   price  ... level5Id level6Id level7Id  \\\n",
      "1      3.0        1.0      NaN   89000  ...        0        0        0   \n",
      "3      3.0        1.0     86.0   89000  ...        0        0        0   \n",
      "85     1.0        1.0     50.0  107000  ...        0        0        0   \n",
      "94     3.0        2.0    120.0  320000  ...        0        0        0   \n",
      "109    3.0        3.0    142.0  425000  ...        0        0        0   \n",
      "\n",
      "    level8Id accuracy          latitude          longitude zipCode customZone  \\\n",
      "1          0        1          40,28674           -3,79351     NaN        NaN   \n",
      "3          0        0  40,2853785786438  -3,79508142135624     NaN        NaN   \n",
      "85         0        1          40,35059           -3,82693     NaN        NaN   \n",
      "94         0        0          40,31933           -3,77574     NaN        NaN   \n",
      "109        0        0        40,3313411         -3,8313868     NaN        NaN   \n",
      "\n",
      "             pps  \n",
      "1            NaN  \n",
      "3    1034.883721  \n",
      "85   2140.000000  \n",
      "94   2666.666667  \n",
      "109  2992.957746  \n",
      "\n",
      "[5 rows x 38 columns]\n"
     ]
    }
   ],
   "source": [
    "# Definir las poblaciones de interés\n",
    "poblaciones_interes = [\"Fuenlabrada\", \"Leganés\", \"Getafe\", \"Alcorcón\"]\n",
    "\n",
    "# Crear un filtro basado en las poblaciones de interés\n",
    "filtro_poblaciones = ds['level5'].isin(poblaciones_interes)\n",
    "\n",
    "# Aplicar el filtro al DataFrame original\n",
    "subset_south_belt = ds[filtro_poblaciones]\n",
    "\n",
    "# Mostrar las primeras filas del subconjunto para verificar\n",
    "print(subset_south_belt.head())"
   ]
  },
  {
   "attachments": {},
   "cell_type": "markdown",
   "id": "severe-fisher",
   "metadata": {},
   "source": [
    "#### Exercise 15. Make a bar plot of the median of the prices and explain what you observe (you must use the subset obtained in Exercise 14) (★★★)\n",
    "\n",
    "Print the bar of the median of the prices and write in the Markdown cell a brief analysis about the plot."
   ]
  },
  {
   "cell_type": "code",
   "execution_count": 24,
   "id": "lyric-bunch",
   "metadata": {},
   "outputs": [
    {
     "data": {
      "image/png": "[encoded data removed]",
      "text/plain": [
       "<Figure size 800x600 with 1 Axes>"
      ]
     },
     "metadata": {},
     "output_type": "display_data"
    }
   ],
   "source": [
    "# Calcular la mediana de los precios por cada población\n",
    "median_prices = subset_south_belt.groupby('level5')['price'].median()\n",
    "\n",
    "# Crear el gráfico de barras\n",
    "plt.figure(figsize=(8, 6))\n",
    "median_prices.plot(kind='bar', color='skyblue')\n",
    "plt.title('Mediana de Precios por Población (Fuenlabrada, Leganés, Getafe, Alcorcón)')\n",
    "plt.xlabel('Población')\n",
    "plt.ylabel('Mediana de Precio')\n",
    "plt.xticks(rotation=45)\n",
    "plt.grid(axis='y', linestyle='--', alpha=0.7)\n",
    "plt.tight_layout()\n",
    "plt.show()"
   ]
  },
  {
   "attachments": {},
   "cell_type": "markdown",
   "id": "sublime-newspaper",
   "metadata": {},
   "source": [
    "**TODO: Markdown**. To write here, double-click on this cell, remove this content and place the text you want to write. Then, execute the cell."
   ]
  },
  {
   "attachments": {},
   "cell_type": "markdown",
   "id": "speaking-diamond",
   "metadata": {},
   "source": [
    "#### Exercise 16. Calculate the sample mean and variance of the variables: price, rooms, surface area and bathrooms (you must use the subset obtained in Exercise 14) (★★★)\n",
    "\n",
    "Print both values for each variable."
   ]
  },
  {
   "cell_type": "code",
   "execution_count": 25,
   "id": "random-feeling",
   "metadata": {},
   "outputs": [
    {
     "name": "stdout",
     "output_type": "stream",
     "text": [
      "Media de precio: 223094.48, Varianza de precio: 14921367508.05\n",
      "Media de habitaciones: 3.02, Varianza de habitaciones: 0.72\n",
      "Media de superficie: 111.75, Varianza de superficie: 4263.05\n",
      "Media de baños: 1.63, Varianza de baños: 0.57\n"
     ]
    }
   ],
   "source": [
    "# Calcular la media y la varianza muestral\n",
    "mean_price = subset_south_belt['price'].mean()\n",
    "variance_price = subset_south_belt['price'].var()\n",
    "\n",
    "mean_rooms = subset_south_belt['rooms'].mean()\n",
    "variance_rooms = subset_south_belt['rooms'].var()\n",
    "\n",
    "mean_surface = subset_south_belt['surface'].mean()\n",
    "variance_surface = subset_south_belt['surface'].var()\n",
    "\n",
    "mean_bathrooms = subset_south_belt['bathrooms'].mean()\n",
    "variance_bathrooms = subset_south_belt['bathrooms'].var()\n",
    "\n",
    "# Imprimir los resultados\n",
    "print(f\"Media de precio: {mean_price:.2f}, Varianza de precio: {variance_price:.2f}\")\n",
    "print(f\"Media de habitaciones: {mean_rooms:.2f}, Varianza de habitaciones: {variance_rooms:.2f}\")\n",
    "print(f\"Media de superficie: {mean_surface:.2f}, Varianza de superficie: {variance_surface:.2f}\")\n",
    "print(f\"Media de baños: {mean_bathrooms:.2f}, Varianza de baños: {variance_bathrooms:.2f}\")"
   ]
  },
  {
   "attachments": {},
   "cell_type": "markdown",
   "id": "revolutionary-matrix",
   "metadata": {},
   "source": [
    "#### Exercise 17. What is the most expensive house in each population? You must use the subset obtained in Exercise 14 (★★☆)\n",
    "\n",
    "Print both the address and the price of the selected house of each population. You can print a DataFrame or a single line for each population."
   ]
  },
  {
   "cell_type": "code",
   "execution_count": 26,
   "id": "fifteen-browse",
   "metadata": {},
   "outputs": [
    {
     "name": "stdout",
     "output_type": "stream",
     "text": [
      "Población: Alcorcón, Dirección: Alcorcón, Precio: 950000\n",
      "Población: Fuenlabrada, Dirección: Calle de Paulo Freire, 5, Fuenlabrada, Precio: 490000\n",
      "Población: Getafe, Dirección: Getafe, Precio: 1050000\n",
      "Población: Leganés, Dirección: Avenida Reina Sofía, Leganés, Precio: 650000\n"
     ]
    }
   ],
   "source": [
    "# Encontrar la casa más cara por población\n",
    "most_expensive_per_population = subset_south_belt.loc[subset_south_belt.groupby('level5')['price'].idxmax()]\n",
    "\n",
    "# Mostrar los resultados\n",
    "for index, row in most_expensive_per_population.iterrows():\n",
    "    print(f\"Población: {row['level5']}, Dirección: {row['address']}, Precio: {row['price']}\")"
   ]
  },
  {
   "attachments": {},
   "cell_type": "markdown",
   "id": "activated-knight",
   "metadata": {},
   "source": [
    "#### Exercise 18. Normalize the variable of prices for each population and plot the 4 histograms in the same plot (you must use the subset obtained in Exercise 14) (★★★)\n",
    "\n",
    "For the normalization method, you can use the one you consider; there is not a single correct answer to this question. Print the plot and write in the Markdown cell a brief analysis about the plot.\n",
    "\n",
    "Hint: You can help yourself by reviewing the *multihist* demo of Matplotlib."
   ]
  },
  {
   "cell_type": "code",
   "execution_count": 28,
   "id": "civic-meditation",
   "metadata": {},
   "outputs": [
    {
     "data": {
      "image/png": "[encoded data removed]",
      "text/plain": [
       "<Figure size 1000x600 with 1 Axes>"
      ]
     },
     "metadata": {},
     "output_type": "display_data"
    }
   ],
   "source": [
    "from sklearn.preprocessing import MinMaxScaler\n",
    "\n",
    "# Crear una copia del subset original para trabajar\n",
    "subset_south_belt_normalized = subset_south_belt.copy()\n",
    "\n",
    "# Inicializar el MinMaxScaler\n",
    "scaler = MinMaxScaler()\n",
    "\n",
    "# Normalizar los precios por población\n",
    "for population in [\"Fuenlabrada\", \"Leganés\", \"Getafe\", \"Alcorcón\"]:\n",
    "    # Filtrar por población\n",
    "    subset_population = subset_south_belt_normalized[subset_south_belt_normalized['level5'] == population]\n",
    "    \n",
    "    # Extraer los precios como un array 2D para el scaler\n",
    "    prices = subset_population['price'].values.reshape(-1, 1)\n",
    "    \n",
    "    # Aplicar el scaler y actualizar los valores en el subset\n",
    "    subset_south_belt_normalized.loc[subset_population.index, 'price_normalized'] = scaler.fit_transform(prices).flatten()\n",
    "\n",
    "# Plotear los histogramas superpuestos\n",
    "plt.figure(figsize=(10, 6))\n",
    "\n",
    "for population in [\"Fuenlabrada\", \"Leganés\", \"Getafe\", \"Alcorcón\"]:\n",
    "    # Filtrar por población\n",
    "    subset_population = subset_south_belt_normalized[subset_south_belt_normalized['level5'] == population]\n",
    "    \n",
    "    # Plotear el histograma\n",
    "    plt.hist(subset_population['price_normalized'], bins=20, alpha=0.5, label=population)\n",
    "\n",
    "plt.title('Histograma Normalizado de Precios por Población')\n",
    "plt.xlabel('Precio Normalizado')\n",
    "plt.ylabel('Frecuencia')\n",
    "plt.legend()\n",
    "plt.grid(True)\n",
    "plt.tight_layout()\n",
    "plt.show()"
   ]
  },
  {
   "attachments": {},
   "cell_type": "markdown",
   "id": "precise-heavy",
   "metadata": {},
   "source": [
    "**TODO: Markdown**. To write here, double-click on this cell, remove this content and place the text you want to write. Then, execute the cell."
   ]
  },
  {
   "attachments": {},
   "cell_type": "markdown",
   "id": "patent-jonathan",
   "metadata": {},
   "source": [
    "#### Exercise 19. What can you say about the price per square meter (price/m2) between the towns of \"Getafe\" and \"Alcorcón\"? You must use the subset obtained in Exercise 14 (★★☆)\n",
    "\n",
    "Hint: Create a new column called `pps` (price per square meter) and then analyze the values."
   ]
  },
  {
   "cell_type": "code",
   "execution_count": 31,
   "id": "initial-liverpool",
   "metadata": {},
   "outputs": [
    {
     "name": "stdout",
     "output_type": "stream",
     "text": [
      "Precio Medio por Metro Cuadrado en Getafe: 2066.314949251463\n",
      "Precio Medio por Metro Cuadrado en Alcorcón: 2239.302480199618\n",
      "Alcorcón tiene un precio medio por metro cuadrado más alto.\n"
     ]
    },
    {
     "name": "stderr",
     "output_type": "stream",
     "text": [
      "/tmp/ipykernel_888/877663385.py:2: SettingWithCopyWarning: \n",
      "A value is trying to be set on a copy of a slice from a DataFrame.\n",
      "Try using .loc[row_indexer,col_indexer] = value instead\n",
      "\n",
      "See the caveats in the documentation: https://pandas.pydata.org/pandas-docs/stable/user_guide/indexing.html#returning-a-view-versus-a-copy\n",
      "  subset_south_belt['precio_m2'] = subset_south_belt['price'] / subset_south_belt['surface']\n"
     ]
    }
   ],
   "source": [
    "# Calcular Precio por Metro Cuadrado (PPS)\n",
    "subset_south_belt['precio_m2'] = subset_south_belt['price'] / subset_south_belt['surface']\n",
    "\n",
    "# Filtrar Datos para Getafe y Alcorcón\n",
    "subset_getafe = subset_south_belt[subset_south_belt['level5'] == 'Getafe']\n",
    "subset_alcorcon = subset_south_belt[subset_south_belt['level5'] == 'Alcorcón']\n",
    "\n",
    "# Calcular Media de Precio por Metro Cuadrado\n",
    "media_precio_m2_getafe = subset_getafe['precio_m2'].mean()\n",
    "media_precio_m2_alcorcon = subset_alcorcon['precio_m2'].mean()\n",
    "\n",
    "# Imprimir Media de Precio por Metro Cuadrado\n",
    "print(f\"Precio Medio por Metro Cuadrado en Getafe: {media_precio_m2_getafe}\")\n",
    "print(f\"Precio Medio por Metro Cuadrado en Alcorcón: {media_precio_m2_alcorcon}\")\n",
    "\n",
    "# Comparar e Interpretar\n",
    "if media_precio_m2_getafe > media_precio_m2_alcorcon:\n",
    "    print(\"Getafe tiene un precio medio por metro cuadrado más alto.\")\n",
    "elif media_precio_m2_getafe < media_precio_m2_alcorcon:\n",
    "    print(\"Alcorcón tiene un precio medio por metro cuadrado más alto.\")\n",
    "else:\n",
    "    print(\"El precio medio por metro cuadrado es el mismo en ambas localidades.\")"
   ]
  },
  {
   "attachments": {},
   "cell_type": "markdown",
   "id": "enhanced-moscow",
   "metadata": {},
   "source": [
    "#### Exercise 20. Make the same plot for 4 different populations (level5 column) and rearrange them on the same graph. You must use the subset obtained in Exercise 14 (★★☆)\n",
    " \n",
    "Hint: Make a scatter plot of each population using subplots."
   ]
  },
  {
   "cell_type": "code",
   "execution_count": 32,
   "id": "accepting-airfare",
   "metadata": {},
   "outputs": [
    {
     "data": {
      "image/png": "[encoded data removed]",
      "text/plain": [
       "<Figure size 1200x1000 with 4 Axes>"
      ]
     },
     "metadata": {},
     "output_type": "display_data"
    }
   ],
   "source": [
    "import matplotlib.pyplot as plt\n",
    "\n",
    "# Filtrar datos para las poblaciones específicas\n",
    "populations = [\"Fuenlabrada\", \"Leganés\", \"Getafe\", \"Alcorcón\"]\n",
    "subset_populations = subset_south_belt[subset_south_belt['level5'].isin(populations)]\n",
    "\n",
    "# Configurar gráfico de subtramas\n",
    "fig, axes = plt.subplots(nrows=2, ncols=2, figsize=(12, 10))\n",
    "fig.suptitle('Gráfico de Dispersión: Precio vs Superficie')\n",
    "\n",
    "# Colores y marcadores para cada población\n",
    "colors = ['blue', 'green', 'red', 'purple']\n",
    "markers = ['o', 's', 'x', '^']\n",
    "\n",
    "# Iterar sobre cada población y crear gráfico de dispersión\n",
    "for i, (population, color, marker) in enumerate(zip(populations, colors, markers)):\n",
    "    ax = axes[i // 2, i % 2]  # Obtener la subtrama correcta\n",
    "    data = subset_populations[subset_populations['level5'] == population]\n",
    "    ax.scatter(data['surface'], data['price'], color=color, marker=marker, label=population)\n",
    "    ax.set_xlabel('Superficie')\n",
    "    ax.set_ylabel('Precio')\n",
    "    ax.set_title(population)\n",
    "    ax.legend()\n",
    "\n",
    "# Ajustar el espacio entre subtramas y mostrar el gráfico\n",
    "plt.tight_layout()\n",
    "plt.show()"
   ]
  },
  {
   "attachments": {},
   "cell_type": "markdown",
   "id": "blocked-effects",
   "metadata": {},
   "source": [
    "#### Exercise 21. Make a plot of the coordinates (latitude and longitude columns) of the south belt of Madrid by color of each population (you must use the subset obtained in Exercise 14) (★★★★)\n",
    "\n",
    "Execute the following cell, and then start coding in the next one. You must implement a simple code that transforms the coordinates columns in a Python dictionary (add more information if needed) and then add it to the map"
   ]
  },
  {
   "cell_type": "code",
   "execution_count": 35,
   "id": "headed-privacy",
   "metadata": {},
   "outputs": [
    {
     "ename": "AttributeError",
     "evalue": "Stamen",
     "output_type": "error",
     "traceback": [
      "\u001b[0;31m---------------------------------------------------------------------------\u001b[0m",
      "\u001b[0;31mKeyError\u001b[0m                                  Traceback (most recent call last)",
      "File \u001b[0;32m~/.local/lib/python3.11/site-packages/xyzservices/lib.py:44\u001b[0m, in \u001b[0;36mBunch.__getattr__\u001b[0;34m(self, key)\u001b[0m\n\u001b[1;32m     43\u001b[0m \u001b[38;5;28;01mtry\u001b[39;00m:\n\u001b[0;32m---> 44\u001b[0m     \u001b[38;5;28;01mreturn\u001b[39;00m \u001b[38;5;28;43mself\u001b[39;49m\u001b[38;5;241;43m.\u001b[39;49m\u001b[38;5;21;43m__getitem__\u001b[39;49m\u001b[43m(\u001b[49m\u001b[43mkey\u001b[49m\u001b[43m)\u001b[49m\n\u001b[1;32m     45\u001b[0m \u001b[38;5;28;01mexcept\u001b[39;00m \u001b[38;5;167;01mKeyError\u001b[39;00m \u001b[38;5;28;01mas\u001b[39;00m err:\n",
      "\u001b[0;31mKeyError\u001b[0m: 'Stamen'",
      "\nThe above exception was the direct cause of the following exception:\n",
      "\u001b[0;31mAttributeError\u001b[0m                            Traceback (most recent call last)",
      "Cell \u001b[0;32mIn[35], line 6\u001b[0m\n\u001b[1;32m      1\u001b[0m \u001b[38;5;28;01mfrom\u001b[39;00m \u001b[38;5;21;01mipyleaflet\u001b[39;00m \u001b[38;5;28;01mimport\u001b[39;00m Map, basemaps\n\u001b[1;32m      3\u001b[0m \u001b[38;5;66;03m# Map centered on (60 degrees latitude and -2.2 degrees longitude)\u001b[39;00m\n\u001b[1;32m      4\u001b[0m \u001b[38;5;66;03m# Latitude, longitude\u001b[39;00m\n\u001b[1;32m      5\u001b[0m \u001b[38;5;28mmap\u001b[39m \u001b[38;5;241m=\u001b[39m Map(center \u001b[38;5;241m=\u001b[39m (\u001b[38;5;241m60\u001b[39m, \u001b[38;5;241m-\u001b[39m\u001b[38;5;241m2.2\u001b[39m), zoom \u001b[38;5;241m=\u001b[39m \u001b[38;5;241m2\u001b[39m, min_zoom \u001b[38;5;241m=\u001b[39m \u001b[38;5;241m1\u001b[39m, max_zoom \u001b[38;5;241m=\u001b[39m \u001b[38;5;241m20\u001b[39m, \n\u001b[0;32m----> 6\u001b[0m     basemap\u001b[38;5;241m=\u001b[39m\u001b[43mbasemaps\u001b[49m\u001b[38;5;241;43m.\u001b[39;49m\u001b[43mStamen\u001b[49m\u001b[38;5;241m.\u001b[39mTerrain)\n\u001b[1;32m      7\u001b[0m \u001b[38;5;28mmap\u001b[39m\n",
      "File \u001b[0;32m~/.local/lib/python3.11/site-packages/xyzservices/lib.py:46\u001b[0m, in \u001b[0;36mBunch.__getattr__\u001b[0;34m(self, key)\u001b[0m\n\u001b[1;32m     44\u001b[0m     \u001b[38;5;28;01mreturn\u001b[39;00m \u001b[38;5;28mself\u001b[39m\u001b[38;5;241m.\u001b[39m\u001b[38;5;21m__getitem__\u001b[39m(key)\n\u001b[1;32m     45\u001b[0m \u001b[38;5;28;01mexcept\u001b[39;00m \u001b[38;5;167;01mKeyError\u001b[39;00m \u001b[38;5;28;01mas\u001b[39;00m err:\n\u001b[0;32m---> 46\u001b[0m     \u001b[38;5;28;01mraise\u001b[39;00m \u001b[38;5;167;01mAttributeError\u001b[39;00m(key) \u001b[38;5;28;01mfrom\u001b[39;00m \u001b[38;5;21;01merr\u001b[39;00m\n",
      "\u001b[0;31mAttributeError\u001b[0m: Stamen"
     ]
    }
   ],
   "source": [
    "from ipyleaflet import Map, basemaps\n",
    "\n",
    "# Map centered on (60 degrees latitude and -2.2 degrees longitude)\n",
    "# Latitude, longitude\n",
    "map = Map(center = (60, -2.2), zoom = 2, min_zoom = 1, max_zoom = 20, \n",
    "    basemap=basemaps.Stamen.Terrain)\n",
    "map"
   ]
  },
  {
   "cell_type": "code",
   "execution_count": 37,
   "id": "present-mistress",
   "metadata": {},
   "outputs": [
    {
     "data": {
      "image/png": "[encoded data removed]",
      "text/plain": [
       "<Figure size 1000x800 with 1 Axes>"
      ]
     },
     "metadata": {},
     "output_type": "display_data"
    }
   ],
   "source": [
    "# Limpiar y convertir las columnas de latitud y longitud\n",
    "subset_populations['latitude'] = subset_populations['latitude'].str.replace(',', '.').astype(float)\n",
    "subset_populations['longitude'] = subset_populations['longitude'].str.replace(',', '.').astype(float)\n",
    "\n",
    "# Definir las poblaciones y colores\n",
    "populations = [\"Fuenlabrada\", \"Leganés\", \"Getafe\", \"Alcorcón\"]\n",
    "colors = {\"Fuenlabrada\": \"red\", \"Leganés\": \"blue\", \"Getafe\": \"green\", \"Alcorcón\": \"purple\"}\n",
    "\n",
    "# Crear la figura y los ejes (subplots)\n",
    "fig, ax = plt.subplots(figsize=(10, 8))\n",
    "\n",
    "# Iterar sobre cada población y graficar las coordenadas\n",
    "for population in populations:\n",
    "    data = subset_populations[subset_populations['level5'] == population]\n",
    "    ax.scatter(data['longitude'], data['latitude'], color=colors[population], label=population, alpha=0.5)\n",
    "\n",
    "# Añadir etiquetas de ejes y leyenda\n",
    "ax.set_xlabel('Longitud')\n",
    "ax.set_ylabel('Latitud')\n",
    "ax.legend()\n",
    "\n",
    "# Mostrar el gráfico\n",
    "plt.show()\n"
   ]
  }
 ],
 "metadata": {
  "kernelspec": {
   "display_name": "Python 3",
   "language": "python",
   "name": "python3"
  },
  "language_info": {
   "codemirror_mode": {
    "name": "ipython",
    "version": 3
   },
   "file_extension": ".py",
   "mimetype": "text/x-python",
   "name": "python",
   "nbconvert_exporter": "python",
   "pygments_lexer": "ipython3",
   "version": "3.11.4"
  }
 },
 "nbformat": 4,
 "nbformat_minor": 5
}
